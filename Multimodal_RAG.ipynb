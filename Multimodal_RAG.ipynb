{
  "nbformat": 4,
  "nbformat_minor": 0,
  "metadata": {
    "colab": {
      "provenance": [],
      "authorship_tag": "ABX9TyMCUuXJinX4nAVWoK6oqPWK",
      "include_colab_link": true
    },
    "kernelspec": {
      "name": "python3",
      "display_name": "Python 3"
    },
    "language_info": {
      "name": "python"
    }
  },
  "cells": [
    {
      "cell_type": "markdown",
      "metadata": {
        "id": "view-in-github",
        "colab_type": "text"
      },
      "source": [
        "<a href=\"https://colab.research.google.com/github/Aakash-1s/SDC-GENAI/blob/main/Multimodal_RAG.ipynb\" target=\"_parent\"><img src=\"https://colab.research.google.com/assets/colab-badge.svg\" alt=\"Open In Colab\"/></a>"
      ]
    },
    {
      "cell_type": "code",
      "execution_count": null,
      "metadata": {
        "colab": {
          "base_uri": "https://localhost:8080/"
        },
        "id": "tdmaiwCQLcVK",
        "outputId": "7997eebc-1f35-41f9-b43d-4f9046d6b726"
      },
      "outputs": [
        {
          "output_type": "stream",
          "name": "stdout",
          "text": [
            "📝 Ask a question and describe the image.\n"
          ]
        }
      ],
      "source": [
        "# 🔍 Knowledge base: Each entry has both text and image data\n",
        "knowledge_base = [\n",
        "    {\n",
        "        \"title\": \"Dog Facts\",\n",
        "        \"text\": \"Dogs are loyal animals often used as companions.\",\n",
        "        \"image_caption\": \"A golden retriever playing fetch in the park.\"\n",
        "    },\n",
        "    {\n",
        "        \"title\": \"Cat Behavior\",\n",
        "        \"text\": \"Cats enjoy warm spots and often purr when they are happy.\",\n",
        "        \"image_caption\": \"A tabby cat sleeping on a sunny windowsill.\"\n",
        "    },\n",
        "    {\n",
        "        \"title\": \"Healthy Fruits\",\n",
        "        \"text\": \"Apples are rich in fiber and good for digestion.\",\n",
        "        \"image_caption\": \"A basket full of shiny red apples.\"\n",
        "    }\n",
        "]\n",
        "\n",
        "# 🔍 Document retrieval based on simple keyword match\n",
        "def retrieve_relevant_docs(question, image_description):\n",
        "    results = []\n",
        "    for entry in knowledge_base:\n",
        "        q_match = any(word in entry['text'].lower() for word in question.lower().split())\n",
        "        i_match = any(word in entry['image_caption'].lower() for word in image_description.lower().split())\n",
        "        if q_match or i_match:\n",
        "            results.append(entry)\n",
        "    return results\n",
        "\n",
        "# 🧠 Simulate generation of an answer based on retrieved info\n",
        "def generate_response(question, image_description, docs):\n",
        "    if not docs:\n",
        "        return \"Sorry, I couldn't find anything relevant.\"\n",
        "\n",
        "    response = \"📚 Based on what I found:\\n\"\n",
        "    for doc in docs:\n",
        "        response += f\"\\n- 📄 {doc['title']}:\\n\"\n",
        "        response += f\"  TEXT: {doc['text']}\\n\"\n",
        "        response += f\"  IMAGE: {doc['image_caption']}\\n\"\n",
        "\n",
        "    response += f\"\\n🧠 Answer: Considering your question '{question}' and the image '{image_description}', the relevant facts are above.\"\n",
        "    return response\n",
        "\n",
        "# 🎯 Main function to run multimodal RAG\n",
        "def run_multimodal_rag():\n",
        "    print(\"📝 Ask a question and describe the image.\")\n",
        "    question = input(\"Enter your question: \")\n",
        "    image_desc = input(\"Describe the image: \")\n",
        "\n",
        "    relevant_docs = retrieve_relevant_docs(question, image_desc)\n",
        "    answer = generate_response(question, image_desc, relevant_docs)\n",
        "\n",
        "    print(\"\\n--- MULTIMODAL RAG RESPONSE ---\")\n",
        "    print(answer)\n",
        "\n",
        "# 🔁 Run the system\n",
        "run_multimodal_rag()\n"
      ]
    }
  ]
}