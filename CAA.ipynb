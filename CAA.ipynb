{
  "nbformat": 4,
  "nbformat_minor": 0,
  "metadata": {
    "colab": {
      "provenance": [],
      "authorship_tag": "ABX9TyMHCBvv1KkERT892AromxcC",
      "include_colab_link": true
    },
    "kernelspec": {
      "name": "python3",
      "display_name": "Python 3"
    },
    "language_info": {
      "name": "python"
    }
  },
  "cells": [
    {
      "cell_type": "markdown",
      "metadata": {
        "id": "view-in-github",
        "colab_type": "text"
      },
      "source": [
        "<a href=\"https://colab.research.google.com/github/Aakash-1s/SDC-GENAI/blob/main/CAA.ipynb\" target=\"_parent\"><img src=\"https://colab.research.google.com/assets/colab-badge.svg\" alt=\"Open In Colab\"/></a>"
      ]
    },
    {
      "cell_type": "code",
      "execution_count": 1,
      "metadata": {
        "colab": {
          "base_uri": "https://localhost:8080/",
          "height": 106
        },
        "id": "ef3q6CxG8vma",
        "outputId": "bf69b480-682d-49d7-9dd8-19f273adc295"
      },
      "outputs": [
        {
          "output_type": "error",
          "ename": "SyntaxError",
          "evalue": "invalid character '→' (U+2192) (<ipython-input-1-af8b1728cb3d>, line 2)",
          "traceback": [
            "\u001b[0;36m  File \u001b[0;32m\"<ipython-input-1-af8b1728cb3d>\"\u001b[0;36m, line \u001b[0;32m2\u001b[0m\n\u001b[0;31m    [Reasoning] Detected condition: 'hungry' → New goal: 'find_food'\u001b[0m\n\u001b[0m                                             ^\u001b[0m\n\u001b[0;31mSyntaxError\u001b[0m\u001b[0;31m:\u001b[0m invalid character '→' (U+2192)\n"
          ]
        }
      ],
      "source": [
        "[Perception] Agent hears: 'I am so hungry right now.'\n",
        "[Reasoning] Detected condition: 'hungry' → New goal: 'find_food'\n",
        "[Planning] Goal: find_food → Action: Looking for something to eat...\n",
        "[Action] Agent performs: Looking for something to eat...\n",
        "\n",
        "[Perception] Agent hears: 'I'm feeling tired and bored.'\n",
        "[Reasoning] Detected condition: 'tired' → New goal: 'sleep'\n",
        "[Reasoning] Detected condition: 'bored' → New goal: 'play_game'\n",
        "[Planning] Goal: sleep → Action: Laying down to rest...\n",
        "[Action] Agent performs: Laying down to rest...\n",
        "[Planning] Goal: play_game → Action: Opening a game to play...\n",
        "[Action] Agent performs: Opening a game to play...\n",
        "\n",
        "[Perception] Agent hears: 'Now I feel thirsty.'\n",
        "[Reasoning] Detected condition: 'thirsty' → New goal: 'drink_water'\n",
        "[Planning] Goal: drink_water → Action: Finding water to drink...\n",
        "[Action] Agent performs: Finding water to drink...\n"
      ]
    }
  ]
}