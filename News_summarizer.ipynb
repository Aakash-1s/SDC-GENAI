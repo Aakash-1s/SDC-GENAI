{
  "nbformat": 4,
  "nbformat_minor": 0,
  "metadata": {
    "colab": {
      "provenance": [],
      "authorship_tag": "ABX9TyOIbdjPTt/TlG8XgtxeCFzC",
      "include_colab_link": true
    },
    "kernelspec": {
      "name": "python3",
      "display_name": "Python 3"
    },
    "language_info": {
      "name": "python"
    }
  },
  "cells": [
    {
      "cell_type": "markdown",
      "metadata": {
        "id": "view-in-github",
        "colab_type": "text"
      },
      "source": [
        "<a href=\"https://colab.research.google.com/github/Aakash-1s/SDC-GENAI/blob/main/News_summarizer.ipynb\" target=\"_parent\"><img src=\"https://colab.research.google.com/assets/colab-badge.svg\" alt=\"Open In Colab\"/></a>"
      ]
    },
    {
      "cell_type": "code",
      "execution_count": 2,
      "metadata": {
        "colab": {
          "base_uri": "https://localhost:8080/"
        },
        "id": "TQmRl2am5361",
        "outputId": "f516d21d-73dc-4678-e280-80ea3270db97"
      },
      "outputs": [
        {
          "output_type": "stream",
          "name": "stdout",
          "text": [
            "\n",
            "Summary:\n",
            "- Analysts are now predicting that the central bank may begin lowering rates later in the year if current trends continue.\n",
            "- Economists expected the decision amid signs that previous rate hikes have begun to take effect.\n",
            "- Fed Chair Jerome Powell indicated that future rate decisions would depend on incoming data.\n"
          ]
        }
      ],
      "source": [
        "import re\n",
        "from collections import defaultdict\n",
        "\n",
        "def summarize_text(text, num_sentences=3):\n",
        "    # Clean and split into sentences\n",
        "    text = re.sub(r'\\s+', ' ', text)  # normalize whitespace\n",
        "    sentences = re.split(r'(?<=[.!?]) +', text)\n",
        "\n",
        "    # Build word frequency table\n",
        "    word_freq = defaultdict(int)\n",
        "    for sentence in sentences:\n",
        "        for word in re.findall(r'\\w+', sentence.lower()):\n",
        "            if word not in [\"the\", \"is\", \"and\", \"a\", \"an\", \"in\", \"of\", \"to\", \"on\", \"for\", \"with\", \"as\", \"by\"]:\n",
        "                word_freq[word] += 1\n",
        "\n",
        "    # Score sentences\n",
        "    sentence_scores = {}\n",
        "    for sentence in sentences:\n",
        "        for word in re.findall(r'\\w+', sentence.lower()):\n",
        "            if word in word_freq:\n",
        "                sentence_scores[sentence] = sentence_scores.get(sentence, 0) + word_freq[word]\n",
        "\n",
        "    # Sort and get top sentences\n",
        "    top_sentences = sorted(sentence_scores, key=sentence_scores.get, reverse=True)[:num_sentences]\n",
        "\n",
        "    print(\"\\nSummary:\")\n",
        "    for sent in top_sentences:\n",
        "        print(\"-\", sent)\n",
        "\n",
        "# Example usage\n",
        "news_article = \"\"\"\n",
        "The Federal Reserve held interest rates steady today, citing slowing inflation and a cooling labor market.\n",
        "Economists expected the decision amid signs that previous rate hikes have begun to take effect.\n",
        "Markets reacted positively, with the S&P 500 rising nearly 1.2% on the news.\n",
        "Fed Chair Jerome Powell indicated that future rate decisions would depend on incoming data.\n",
        "Analysts are now predicting that the central bank may begin lowering rates later in the year if current trends continue.\n",
        "\"\"\"\n",
        "\n",
        "summarize_text(news_article)\n",
        "\n"
      ]
    }
  ]
}