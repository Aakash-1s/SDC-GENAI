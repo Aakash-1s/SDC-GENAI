{
  "nbformat": 4,
  "nbformat_minor": 0,
  "metadata": {
    "colab": {
      "provenance": [],
      "authorship_tag": "ABX9TyME78HEirRC4RJF0rC2WXJO",
      "include_colab_link": true
    },
    "kernelspec": {
      "name": "python3",
      "display_name": "Python 3"
    },
    "language_info": {
      "name": "python"
    }
  },
  "cells": [
    {
      "cell_type": "markdown",
      "metadata": {
        "id": "view-in-github",
        "colab_type": "text"
      },
      "source": [
        "<a href=\"https://colab.research.google.com/github/Aakash-1s/SDC-GENAI/blob/main/Logic_neural_network.ipynb\" target=\"_parent\"><img src=\"https://colab.research.google.com/assets/colab-badge.svg\" alt=\"Open In Colab\"/></a>"
      ]
    },
    {
      "cell_type": "code",
      "execution_count": 1,
      "metadata": {
        "colab": {
          "base_uri": "https://localhost:8080/"
        },
        "id": "hJL9o_b371sr",
        "outputId": "b0bc959e-e216-4c87-e7ed-2e2e41ff8ca3"
      },
      "outputs": [
        {
          "output_type": "stream",
          "name": "stdout",
          "text": [
            "Epoch [0/1000] Loss: 0.7407\n",
            "Epoch [100/1000] Loss: 0.4928\n",
            "Epoch [200/1000] Loss: 0.3807\n",
            "Epoch [300/1000] Loss: 0.3132\n",
            "Epoch [400/1000] Loss: 0.2676\n",
            "Epoch [500/1000] Loss: 0.2344\n",
            "Epoch [600/1000] Loss: 0.2088\n",
            "Epoch [700/1000] Loss: 0.1884\n",
            "Epoch [800/1000] Loss: 0.1717\n",
            "Epoch [900/1000] Loss: 0.1577\n",
            "\n",
            "Trained AND Gate Logic:\n",
            "Input: [0.0, 0.0] => Output: 0.0088\n",
            "Input: [0.0, 1.0] => Output: 0.1518\n",
            "Input: [1.0, 0.0] => Output: 0.1520\n",
            "Input: [1.0, 1.0] => Output: 0.7829\n"
          ]
        }
      ],
      "source": [
        "import torch\n",
        "import torch.nn as nn\n",
        "import torch.optim as optim\n",
        "\n",
        "# Define a simple neural network for logic gate\n",
        "class LogicNeuralNetwork(nn.Module):\n",
        "    def __init__(self):\n",
        "        super(LogicNeuralNetwork, self).__init__()\n",
        "        self.linear = nn.Linear(2, 1)  # 2 inputs, 1 output\n",
        "        self.sigmoid = nn.Sigmoid()   # squashes output between 0 and 1\n",
        "\n",
        "    def forward(self, x):\n",
        "        x = self.linear(x)\n",
        "        return self.sigmoid(x)\n",
        "\n",
        "# Training data for AND gate\n",
        "# [A, B] => A AND B\n",
        "inputs = torch.tensor([\n",
        "    [0.0, 0.0],\n",
        "    [0.0, 1.0],\n",
        "    [1.0, 0.0],\n",
        "    [1.0, 1.0]\n",
        "])\n",
        "labels = torch.tensor([\n",
        "    [0.0],\n",
        "    [0.0],\n",
        "    [0.0],\n",
        "    [1.0]\n",
        "])\n",
        "\n",
        "# Initialize model, loss, optimizer\n",
        "model = LogicNeuralNetwork()\n",
        "criterion = nn.BCELoss()  # binary cross-entropy\n",
        "optimizer = optim.SGD(model.parameters(), lr=0.1)\n",
        "\n",
        "# Train the model\n",
        "epochs = 1000\n",
        "for epoch in range(epochs):\n",
        "    # Forward pass\n",
        "    outputs = model(inputs)\n",
        "    loss = criterion(outputs, labels)\n",
        "\n",
        "    # Backward and optimize\n",
        "    optimizer.zero_grad()\n",
        "    loss.backward()\n",
        "    optimizer.step()\n",
        "\n",
        "    if epoch % 100 == 0:\n",
        "        print(f\"Epoch [{epoch}/{epochs}] Loss: {loss.item():.4f}\")\n",
        "\n",
        "# Test the trained model\n",
        "print(\"\\nTrained AND Gate Logic:\")\n",
        "with torch.no_grad():\n",
        "    for i in range(4):\n",
        "        x = inputs[i]\n",
        "        y_pred = model(x)\n",
        "        print(f\"Input: {x.tolist()} => Output: {y_pred.item():.4f}\")\n"
      ]
    }
  ]
}