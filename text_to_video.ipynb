{
  "nbformat": 4,
  "nbformat_minor": 0,
  "metadata": {
    "colab": {
      "provenance": [],
      "authorship_tag": "ABX9TyMmKdnBk5vNSfibkjgPBwIm",
      "include_colab_link": true
    },
    "kernelspec": {
      "name": "python3",
      "display_name": "Python 3"
    },
    "language_info": {
      "name": "python"
    }
  },
  "cells": [
    {
      "cell_type": "markdown",
      "metadata": {
        "id": "view-in-github",
        "colab_type": "text"
      },
      "source": [
        "<a href=\"https://colab.research.google.com/github/Aakash-1s/SDC-GENAI/blob/main/text_to_video.ipynb\" target=\"_parent\"><img src=\"https://colab.research.google.com/assets/colab-badge.svg\" alt=\"Open In Colab\"/></a>"
      ]
    },
    {
      "cell_type": "code",
      "execution_count": 2,
      "metadata": {
        "colab": {
          "base_uri": "https://localhost:8080/"
        },
        "id": "GevWVWxv3DEy",
        "outputId": "58f8976d-07eb-494f-bdeb-9eb95aaa26b4"
      },
      "outputs": [
        {
          "output_type": "stream",
          "name": "stdout",
          "text": [
            "Moviepy - Building video text_video.mp4.\n",
            "Moviepy - Writing video text_video.mp4\n",
            "\n"
          ]
        },
        {
          "output_type": "stream",
          "name": "stderr",
          "text": []
        },
        {
          "output_type": "stream",
          "name": "stdout",
          "text": [
            "Moviepy - Done !\n",
            "Moviepy - video ready text_video.mp4\n"
          ]
        }
      ],
      "source": [
        "from moviepy.editor import ImageClip, concatenate_videoclips\n",
        "from PIL import Image, ImageDraw, ImageFont\n",
        "import os\n",
        "\n",
        "# Text lines for the video\n",
        "text_lines = [\n",
        "    \"Welcome to your text-to-video demo!\",\n",
        "    \"This video was created using only code.\",\n",
        "    \"No manual installations required!\",\n",
        "]\n",
        "\n",
        "# Video settings\n",
        "width, height = 1280, 720\n",
        "font_size = 50\n",
        "duration = 3  # seconds per frame\n",
        "bg_color = \"black\"\n",
        "text_color = \"white\"\n",
        "\n",
        "# Try to use a built-in font\n",
        "try:\n",
        "    font = ImageFont.truetype(\"DejaVuSans-Bold.ttf\", font_size)\n",
        "except:\n",
        "    font = ImageFont.load_default()\n",
        "\n",
        "image_paths = []\n",
        "\n",
        "# Create images with text\n",
        "for idx, line in enumerate(text_lines):\n",
        "    img = Image.new(\"RGB\", (width, height), color=bg_color)\n",
        "    draw = ImageDraw.Draw(img)\n",
        "\n",
        "    # Get text size using getbbox\n",
        "    bbox = font.getbbox(line)\n",
        "    text_width = bbox[2] - bbox[0]\n",
        "    text_height = bbox[3] - bbox[1]\n",
        "    text_position = ((width - text_width) // 2, (height - text_height) // 2)\n",
        "\n",
        "    draw.text(text_position, line, font=font, fill=text_color)\n",
        "\n",
        "    img_path = f\"frame_{idx}.png\"\n",
        "    img.save(img_path)\n",
        "    image_paths.append(img_path)\n",
        "\n",
        "# Create video from images\n",
        "clips = [ImageClip(path).set_duration(duration) for path in image_paths]\n",
        "final_video = concatenate_videoclips(clips, method=\"compose\")\n",
        "final_video.write_videofile(\"text_video.mp4\", fps=24)\n",
        "\n",
        "# Clean up\n",
        "for path in image_paths:\n",
        "    os.remove(path)\n",
        "\n"
      ]
    }
  ]
}