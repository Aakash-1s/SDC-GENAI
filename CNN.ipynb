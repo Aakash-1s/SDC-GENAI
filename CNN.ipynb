{
  "nbformat": 4,
  "nbformat_minor": 0,
  "metadata": {
    "colab": {
      "provenance": [],
      "authorship_tag": "ABX9TyM5qD2NQX8D6PD2y5cST6cJ",
      "include_colab_link": true
    },
    "kernelspec": {
      "name": "python3",
      "display_name": "Python 3"
    },
    "language_info": {
      "name": "python"
    }
  },
  "cells": [
    {
      "cell_type": "markdown",
      "metadata": {
        "id": "view-in-github",
        "colab_type": "text"
      },
      "source": [
        "<a href=\"https://colab.research.google.com/github/Aakash-1s/SDC-GENAI/blob/main/CNN.ipynb\" target=\"_parent\"><img src=\"https://colab.research.google.com/assets/colab-badge.svg\" alt=\"Open In Colab\"/></a>"
      ]
    },
    {
      "cell_type": "code",
      "execution_count": 2,
      "metadata": {
        "colab": {
          "base_uri": "https://localhost:8080/"
        },
        "id": "5PoJd5429gjz",
        "outputId": "3fcb3132-c9fb-40ef-e4c5-e4e6d53dc481"
      },
      "outputs": [
        {
          "output_type": "stream",
          "name": "stdout",
          "text": [
            "CNN Output: [0.41324592]\n"
          ]
        }
      ],
      "source": [
        "import numpy as np\n",
        "\n",
        "# Define the convolution function (2D)\n",
        "def conv2d(input_image, kernel):\n",
        "    kernel_height, kernel_width = kernel.shape\n",
        "    image_height, image_width = input_image.shape\n",
        "\n",
        "    # Output dimensions (after convolution)\n",
        "    output_height = image_height - kernel_height + 1\n",
        "    output_width = image_width - kernel_width + 1\n",
        "\n",
        "    # Create an empty output matrix\n",
        "    output = np.zeros((output_height, output_width))\n",
        "\n",
        "    for i in range(output_height):\n",
        "        for j in range(output_width):\n",
        "            # Convolve kernel with image region\n",
        "            output[i, j] = np.sum(input_image[i:i+kernel_height, j:j+kernel_width] * kernel)\n",
        "\n",
        "    return output\n",
        "\n",
        "# Define the max-pooling function (2x2)\n",
        "def max_pooling(input_matrix, pool_size=2):\n",
        "    pool_height, pool_width = pool_size, pool_size\n",
        "    output_height = input_matrix.shape[0] // pool_height\n",
        "    output_width = input_matrix.shape[1] // pool_width\n",
        "\n",
        "    # Handle cases where the output dimensions are not evenly divisible by pool size\n",
        "    if input_matrix.shape[0] % pool_height != 0:\n",
        "        output_height += 1\n",
        "    if input_matrix.shape[1] % pool_width != 0:\n",
        "        output_width += 1\n",
        "\n",
        "    output = np.zeros((output_height, output_width))\n",
        "\n",
        "    for i in range(output_height):\n",
        "        for j in range(output_width):\n",
        "            # Determine the region of the matrix to pool\n",
        "            x_start = i * pool_height\n",
        "            y_start = j * pool_width\n",
        "            x_end = min(x_start + pool_height, input_matrix.shape[0])\n",
        "            y_end = min(y_start + pool_width, input_matrix.shape[1])\n",
        "\n",
        "            # Apply max pooling\n",
        "            output[i, j] = np.max(input_matrix[x_start:x_end, y_start:y_end])\n",
        "\n",
        "    return output\n",
        "\n",
        "# Define the ReLU function (Rectified Linear Unit)\n",
        "def relu(x):\n",
        "    return np.maximum(0, x)\n",
        "\n",
        "# Define a simple fully connected layer (fully connected, or dense layer)\n",
        "def fully_connected(input_data, weights, bias):\n",
        "    return np.dot(input_data, weights) + bias\n",
        "\n",
        "# Define a simple model with one convolution, one max-pooling, and one fully connected layer\n",
        "def cnn_model(input_image):\n",
        "    # Step 1: Convolution layer\n",
        "    kernel = np.array([[1, 0, -1], [1, 0, -1], [1, 0, -1]])  # Simple kernel for edge detection\n",
        "    conv_output = conv2d(input_image, kernel)\n",
        "\n",
        "    # Step 2: ReLU activation\n",
        "    relu_output = relu(conv_output)\n",
        "\n",
        "    # Step 3: Max pooling\n",
        "    pooled_output = max_pooling(relu_output)\n",
        "\n",
        "    # Step 4: Flatten the pooled output (flattening for fully connected layer)\n",
        "    flattened_output = pooled_output.flatten()\n",
        "\n",
        "    # Step 5: Fully connected layer (dense layer)\n",
        "    fc_weights = np.random.randn(flattened_output.shape[0], 1)  # Random weights\n",
        "    fc_bias = np.random.randn(1)  # Random bias\n",
        "    output = fully_connected(flattened_output, fc_weights, fc_bias)\n",
        "\n",
        "    return output\n",
        "\n",
        "# Example: A simple 5x5 image\n",
        "input_image = np.array([\n",
        "    [1, 1, 1, 1, 1],\n",
        "    [1, 0, 0, 0, 1],\n",
        "    [1, 0, 1, 0, 1],\n",
        "    [1, 0, 0, 0, 1],\n",
        "    [1, 1, 1, 1, 1]\n",
        "])\n",
        "\n",
        "# Run the CNN model on the example image\n",
        "output = cnn_model(input_image)\n",
        "print(\"CNN Output:\", output)\n"
      ]
    }
  ]
}