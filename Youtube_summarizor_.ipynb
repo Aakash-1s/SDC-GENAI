{
  "nbformat": 4,
  "nbformat_minor": 0,
  "metadata": {
    "colab": {
      "provenance": [],
      "authorship_tag": "ABX9TyMhyULgvkSmqMmqZh3TJg6+",
      "include_colab_link": true
    },
    "kernelspec": {
      "name": "python3",
      "display_name": "Python 3"
    },
    "language_info": {
      "name": "python"
    }
  },
  "cells": [
    {
      "cell_type": "markdown",
      "metadata": {
        "id": "view-in-github",
        "colab_type": "text"
      },
      "source": [
        "<a href=\"https://colab.research.google.com/github/Aakash-1s/SDC-GENAI/blob/main/Youtube_summarizor_.ipynb\" target=\"_parent\"><img src=\"https://colab.research.google.com/assets/colab-badge.svg\" alt=\"Open In Colab\"/></a>"
      ]
    },
    {
      "cell_type": "code",
      "execution_count": 1,
      "metadata": {
        "id": "3060Iv9bDktI",
        "outputId": "5d784d9a-fdce-4f1f-90e0-b84c1ac22429",
        "colab": {
          "base_uri": "https://localhost:8080/"
        }
      },
      "outputs": [
        {
          "output_type": "stream",
          "name": "stdout",
          "text": [
            "Summary of the Video Transcript:\n",
            "\n",
            "In this video, we are going to discuss Python programming basics.\n",
            "    Python is a versatile and easy-to-learn programming language that is widely used for various applications.\n",
            "    First, let's talk about data types in Python. Python has several data types, such as integers, floats, strings, and lists.\n",
            "    We will cover these in detail later in the video.\n",
            "    Now, let's move on to Python functions. Functions are blocks of reusable code that allow us to perform tasks in Python.\n",
            "    The syntax of a function in Python is simple and easy to understand.\n",
            "    Finally, we will discuss object-oriented programming and how Python supports classes and objects.\n",
            "    Thank you for watching, and don't forget to like, share, and subscribe to the channel!\n",
            "    \n"
          ]
        }
      ],
      "source": [
        "import re\n",
        "\n",
        "# Function to load the transcript (manually input the transcript as text)\n",
        "def load_transcript():\n",
        "    # Example transcript (you can manually replace this with the YouTube transcript)\n",
        "    transcript = \"\"\"\n",
        "    Hello everyone, welcome back to the channel. In this video, we are going to discuss Python programming basics.\n",
        "    Python is a versatile and easy-to-learn programming language that is widely used for various applications.\n",
        "    First, let's talk about data types in Python. Python has several data types, such as integers, floats, strings, and lists.\n",
        "    We will cover these in detail later in the video.\n",
        "    Now, let's move on to Python functions. Functions are blocks of reusable code that allow us to perform tasks in Python.\n",
        "    The syntax of a function in Python is simple and easy to understand.\n",
        "    Finally, we will discuss object-oriented programming and how Python supports classes and objects.\n",
        "    Thank you for watching, and don't forget to like, share, and subscribe to the channel!\n",
        "    \"\"\"\n",
        "    return transcript\n",
        "\n",
        "# Basic text summarization using keyword-based sentence selection\n",
        "def summarize_transcript(transcript):\n",
        "    # Split the transcript into sentences\n",
        "    sentences = re.split(r'(?<=[.!?]) +', transcript)\n",
        "\n",
        "    # Simple keyword-based summarization: Look for sentences with certain keywords\n",
        "    important_keywords = ['python', 'data', 'functions', 'object-oriented']\n",
        "    important_sentences = []\n",
        "\n",
        "    for sentence in sentences:\n",
        "        for keyword in important_keywords:\n",
        "            if keyword.lower() in sentence.lower():\n",
        "                important_sentences.append(sentence)\n",
        "                break\n",
        "\n",
        "    # Combine important sentences into a summary\n",
        "    summary = ' '.join(important_sentences)\n",
        "\n",
        "    # Return the summarized text\n",
        "    return summary\n",
        "\n",
        "# Load the transcript\n",
        "transcript = load_transcript()\n",
        "\n",
        "# Get the summarized version\n",
        "summary = summarize_transcript(transcript)\n",
        "\n",
        "# Print the summary\n",
        "print(\"Summary of the Video Transcript:\\n\")\n",
        "print(summary)\n"
      ]
    }
  ]
}