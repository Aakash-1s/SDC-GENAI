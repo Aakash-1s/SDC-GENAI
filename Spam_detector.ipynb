{
  "nbformat": 4,
  "nbformat_minor": 0,
  "metadata": {
    "colab": {
      "provenance": [],
      "authorship_tag": "ABX9TyMca2GRXKz6JZiQOtD5tlLm",
      "include_colab_link": true
    },
    "kernelspec": {
      "name": "python3",
      "display_name": "Python 3"
    },
    "language_info": {
      "name": "python"
    }
  },
  "cells": [
    {
      "cell_type": "markdown",
      "metadata": {
        "id": "view-in-github",
        "colab_type": "text"
      },
      "source": [
        "<a href=\"https://colab.research.google.com/github/Aakash-1s/SDC-GENAI/blob/main/Spam_detector.ipynb\" target=\"_parent\"><img src=\"https://colab.research.google.com/assets/colab-badge.svg\" alt=\"Open In Colab\"/></a>"
      ]
    },
    {
      "cell_type": "code",
      "execution_count": 1,
      "metadata": {
        "colab": {
          "base_uri": "https://localhost:8080/"
        },
        "id": "Bj2svVz69AE_",
        "outputId": "ecc67a5d-e903-48c7-c2f4-80b382d490d5"
      },
      "outputs": [
        {
          "output_type": "stream",
          "name": "stdout",
          "text": [
            "Message: Congratulations! You've won a free iPhone!\n",
            "Classification: Not Spam\n",
            "\n",
            "Message: Hey, are we still on for dinner tonight?\n",
            "Classification: Not Spam\n",
            "\n",
            "Message: Get a 100% discount on all your purchases today.\n",
            "Classification: Not Spam\n",
            "\n",
            "Message: Can you send me the updated report?\n",
            "Classification: Not Spam\n",
            "\n",
            "Message: You're invited to a special sale event this weekend.\n",
            "Classification: Not Spam\n",
            "\n"
          ]
        }
      ],
      "source": [
        "import re\n",
        "from collections import Counter\n",
        "\n",
        "# A basic dataset of spam and non-spam messages\n",
        "spam_messages = [\n",
        "    \"Congratulations! You've won a free gift card. Claim now!\",\n",
        "    \"You have a limited-time offer to buy cheap viagra!\",\n",
        "    \"Hurry up! You are eligible for a $1000 reward!\",\n",
        "    \"Limited time offer! Get 90% off on all electronics.\",\n",
        "    \"Dear customer, we are offering a 50% discount on your next purchase.\",\n",
        "]\n",
        "\n",
        "non_spam_messages = [\n",
        "    \"Hey, let's catch up this weekend!\",\n",
        "    \"Are you free to meet for coffee tomorrow?\",\n",
        "    \"I am working on a project; can you help me with it?\",\n",
        "    \"The report looks great; I will send it to the boss.\",\n",
        "    \"Don't forget to submit your assignment by tomorrow.\",\n",
        "]\n",
        "\n",
        "# Combine the spam and non-spam messages into one dataset\n",
        "all_messages = spam_messages + non_spam_messages\n",
        "labels = ['spam'] * len(spam_messages) + ['ham'] * len(non_spam_messages)\n",
        "\n",
        "# Preprocess the text (remove punctuation, make lowercase)\n",
        "def preprocess(text):\n",
        "    text = text.lower()\n",
        "    text = re.sub(r'[^\\w\\s]', '', text)  # Remove punctuation\n",
        "    return text\n",
        "\n",
        "# Build a simple word frequency table\n",
        "def build_frequency_table(messages):\n",
        "    word_freq = Counter()\n",
        "    for message in messages:\n",
        "        words = preprocess(message).split()\n",
        "        word_freq.update(words)\n",
        "    return word_freq\n",
        "\n",
        "# Calculate the probability of a message being spam or non-spam based on word frequency\n",
        "def calculate_probability(message, word_freq, total_messages):\n",
        "    words = preprocess(message).split()\n",
        "    prob = 1\n",
        "    for word in words:\n",
        "        prob *= word_freq[word] / total_messages\n",
        "    return prob\n",
        "\n",
        "# Spam detection function\n",
        "def detect_spam(message):\n",
        "    # Build frequency tables\n",
        "    spam_freq = build_frequency_table(spam_messages)\n",
        "    ham_freq = build_frequency_table(non_spam_messages)\n",
        "\n",
        "    # Calculate probabilities for spam and non-spam\n",
        "    spam_prob = calculate_probability(message, spam_freq, len(spam_messages))\n",
        "    ham_prob = calculate_probability(message, ham_freq, len(non_spam_messages))\n",
        "\n",
        "    # Compare probabilities\n",
        "    if spam_prob > ham_prob:\n",
        "        return \"Spam\"\n",
        "    else:\n",
        "        return \"Not Spam\"\n",
        "\n",
        "# Test the spam detector\n",
        "test_messages = [\n",
        "    \"Congratulations! You've won a free iPhone!\",\n",
        "    \"Hey, are we still on for dinner tonight?\",\n",
        "    \"Get a 100% discount on all your purchases today.\",\n",
        "    \"Can you send me the updated report?\",\n",
        "    \"You're invited to a special sale event this weekend.\"\n",
        "]\n",
        "\n",
        "for msg in test_messages:\n",
        "    print(f\"Message: {msg}\")\n",
        "    print(f\"Classification: {detect_spam(msg)}\\n\")\n"
      ]
    }
  ]
}