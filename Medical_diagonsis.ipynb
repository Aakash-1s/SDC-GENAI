{
  "nbformat": 4,
  "nbformat_minor": 0,
  "metadata": {
    "colab": {
      "provenance": [],
      "authorship_tag": "ABX9TyPg7M/U6Mnj9SGTtt2qgnT8",
      "include_colab_link": true
    },
    "kernelspec": {
      "name": "python3",
      "display_name": "Python 3"
    },
    "language_info": {
      "name": "python"
    }
  },
  "cells": [
    {
      "cell_type": "markdown",
      "metadata": {
        "id": "view-in-github",
        "colab_type": "text"
      },
      "source": [
        "<a href=\"https://colab.research.google.com/github/Aakash-1s/SDC-GENAI/blob/main/Medical_diagonsis.ipynb\" target=\"_parent\"><img src=\"https://colab.research.google.com/assets/colab-badge.svg\" alt=\"Open In Colab\"/></a>"
      ]
    },
    {
      "cell_type": "code",
      "execution_count": 1,
      "metadata": {
        "colab": {
          "base_uri": "https://localhost:8080/"
        },
        "id": "6SCihdBUGCTW",
        "outputId": "9a8c9bcb-35b5-4c59-c2bf-1cb08685c995"
      },
      "outputs": [
        {
          "output_type": "stream",
          "name": "stdout",
          "text": [
            "Possible Diagnoses based on your symptoms:\n",
            "COVID-19 - Matched Symptoms: 3\n",
            "Pneumonia - Matched Symptoms: 3\n",
            "Common Cold - Matched Symptoms: 2\n",
            "Flu - Matched Symptoms: 2\n",
            "Allergy - Matched Symptoms: 1\n"
          ]
        }
      ],
      "source": [
        "# Predefined symptoms and conditions dataset (simulate a small dataset of conditions and symptoms)\n",
        "medical_conditions = {\n",
        "    \"Common Cold\": [\"fever\", \"cough\", \"sore throat\", \"runny nose\"],\n",
        "    \"Flu\": [\"fever\", \"headache\", \"fatigue\", \"muscle aches\", \"sore throat\"],\n",
        "    \"COVID-19\": [\"fever\", \"cough\", \"fatigue\", \"shortness of breath\", \"loss of taste or smell\"],\n",
        "    \"Pneumonia\": [\"fever\", \"cough\", \"shortness of breath\", \"chest pain\", \"fatigue\"],\n",
        "    \"Migraine\": [\"headache\", \"nausea\", \"sensitivity to light\", \"vomiting\"],\n",
        "    \"Allergy\": [\"sneezing\", \"itchy eyes\", \"runny nose\", \"cough\"]\n",
        "}\n",
        "\n",
        "# Function to match symptoms with possible conditions\n",
        "def diagnose(symptoms):\n",
        "    possible_conditions = []\n",
        "\n",
        "    # Iterate through each condition in the medical_conditions dictionary\n",
        "    for condition, condition_symptoms in medical_conditions.items():\n",
        "        # Count how many symptoms match with the input symptoms\n",
        "        match_count = sum(1 for symptom in symptoms if symptom in condition_symptoms)\n",
        "\n",
        "        # If at least one symptom matches, consider this condition as a possible diagnosis\n",
        "        if match_count > 0:\n",
        "            possible_conditions.append((condition, match_count))\n",
        "\n",
        "    # Sort conditions based on the number of symptoms matched (more matches = more likely)\n",
        "    possible_conditions.sort(key=lambda x: x[1], reverse=True)\n",
        "\n",
        "    return possible_conditions\n",
        "\n",
        "# Example usage: Provide a list of symptoms from the user\n",
        "user_symptoms = [\"fever\", \"cough\", \"fatigue\"]\n",
        "\n",
        "# Get the possible diagnoses\n",
        "diagnoses = diagnose(user_symptoms)\n",
        "\n",
        "# Display possible diagnoses\n",
        "print(\"Possible Diagnoses based on your symptoms:\")\n",
        "for diagnosis, matches in diagnoses:\n",
        "    print(f\"{diagnosis} - Matched Symptoms: {matches}\")\n"
      ]
    }
  ]
}