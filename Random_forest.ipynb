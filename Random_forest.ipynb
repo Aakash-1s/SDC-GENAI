{
  "nbformat": 4,
  "nbformat_minor": 0,
  "metadata": {
    "colab": {
      "provenance": [],
      "authorship_tag": "ABX9TyPGE7acvuyJc+wzY2F8T1My",
      "include_colab_link": true
    },
    "kernelspec": {
      "name": "python3",
      "display_name": "Python 3"
    },
    "language_info": {
      "name": "python"
    }
  },
  "cells": [
    {
      "cell_type": "markdown",
      "metadata": {
        "id": "view-in-github",
        "colab_type": "text"
      },
      "source": [
        "<a href=\"https://colab.research.google.com/github/Aakash-1s/SDC-GENAI/blob/main/Random_forest.ipynb\" target=\"_parent\"><img src=\"https://colab.research.google.com/assets/colab-badge.svg\" alt=\"Open In Colab\"/></a>"
      ]
    },
    {
      "cell_type": "code",
      "execution_count": 1,
      "metadata": {
        "colab": {
          "base_uri": "https://localhost:8080/"
        },
        "id": "crrR98pjn2QQ",
        "outputId": "2b996d93-d0eb-43cf-d84f-ace6b68d56e4"
      },
      "outputs": [
        {
          "output_type": "stream",
          "name": "stdout",
          "text": [
            "Prediction (1 = Will buy, 0 = Won't buy): 0\n",
            "Probability of buying: 0.15\n"
          ]
        }
      ],
      "source": [
        "# Import libraries\n",
        "import numpy as np\n",
        "from sklearn.ensemble import RandomForestClassifier\n",
        "import matplotlib.pyplot as plt\n",
        "\n",
        "# Sample data: [Age, Salary]\n",
        "X = np.array([\n",
        "    [22, 15000],\n",
        "    [25, 18000],\n",
        "    [28, 20000],\n",
        "    [35, 40000],\n",
        "    [40, 50000],\n",
        "    [45, 60000],\n",
        "    [50, 65000],\n",
        "    [60, 70000]\n",
        "])\n",
        "y = np.array([0, 0, 0, 1, 1, 1, 1, 1])  # 0 = No, 1 = Yes (Did they buy?)\n",
        "\n",
        "# Create and train the model\n",
        "model = RandomForestClassifier(n_estimators=100, random_state=42)\n",
        "model.fit(X, y)\n",
        "\n",
        "# Make a prediction: Will a 30-year-old with $30,000 salary buy?\n",
        "prediction = model.predict([[30, 30000]])\n",
        "print(\"Prediction (1 = Will buy, 0 = Won't buy):\", prediction[0])\n",
        "\n",
        "# Optional: See the probability\n",
        "prob = model.predict_proba([[30, 30000]])[0][1]\n",
        "print(f\"Probability of buying: {prob:.2f}\")\n"
      ]
    }
  ]
}