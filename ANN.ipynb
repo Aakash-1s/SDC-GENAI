{
  "nbformat": 4,
  "nbformat_minor": 0,
  "metadata": {
    "colab": {
      "provenance": [],
      "authorship_tag": "ABX9TyNp1/luyCaMbvkM55Ma+7vS",
      "include_colab_link": true
    },
    "kernelspec": {
      "name": "python3",
      "display_name": "Python 3"
    },
    "language_info": {
      "name": "python"
    }
  },
  "cells": [
    {
      "cell_type": "markdown",
      "metadata": {
        "id": "view-in-github",
        "colab_type": "text"
      },
      "source": [
        "<a href=\"https://colab.research.google.com/github/Aakash-1s/SDC-GENAI/blob/main/ANN.ipynb\" target=\"_parent\"><img src=\"https://colab.research.google.com/assets/colab-badge.svg\" alt=\"Open In Colab\"/></a>"
      ]
    },
    {
      "cell_type": "code",
      "execution_count": 1,
      "metadata": {
        "colab": {
          "base_uri": "https://localhost:8080/"
        },
        "id": "R-2JdNjO_rnb",
        "outputId": "f008fdb5-2774-4496-e482-5c5c196b549a"
      },
      "outputs": [
        {
          "output_type": "stream",
          "name": "stdout",
          "text": [
            "Epoch 0, Loss: 0.29438\n",
            "Epoch 1000, Loss: 0.00288\n",
            "Epoch 2000, Loss: 0.00107\n",
            "Epoch 3000, Loss: 0.00062\n",
            "Epoch 4000, Loss: 0.00043\n",
            "Epoch 5000, Loss: 0.00034\n",
            "Epoch 6000, Loss: 0.00028\n",
            "Epoch 7000, Loss: 0.00024\n",
            "Epoch 8000, Loss: 0.00021\n",
            "Epoch 9000, Loss: 0.00019\n",
            "Final output after training:\n",
            "[[0.00225848]\n",
            " [0.02221146]\n",
            " [0.00847419]\n",
            " [0.98921978]]\n"
          ]
        }
      ],
      "source": [
        "import numpy as np\n",
        "\n",
        "# Sigmoid Activation Function\n",
        "def sigmoid(x):\n",
        "    return 1 / (1 + np.exp(-x))\n",
        "\n",
        "# Derivative of Sigmoid for backpropagation\n",
        "def sigmoid_derivative(x):\n",
        "    return x * (1 - x)\n",
        "\n",
        "# ReLU Activation Function\n",
        "def relu(x):\n",
        "    return np.maximum(0, x)\n",
        "\n",
        "# Derivative of ReLU for backpropagation\n",
        "def relu_derivative(x):\n",
        "    return (x > 0).astype(float)\n",
        "\n",
        "# Initialize the dataset (simple binary classification problem)\n",
        "# Let's say input features are 2 and we want to classify the output into 0 or 1\n",
        "X = np.array([[0, 0],\n",
        "              [0, 1],\n",
        "              [1, 0],\n",
        "              [1, 1]])  # 4 samples with 2 features each (AND gate)\n",
        "\n",
        "# Output labels (0 or 1)\n",
        "y = np.array([[0], [0], [0], [1]])\n",
        "\n",
        "# Initialize the neural network parameters\n",
        "input_layer_size = 2  # Number of input features\n",
        "hidden_layer_size = 4  # Number of hidden neurons\n",
        "output_layer_size = 1  # Output is binary\n",
        "\n",
        "# Initialize weights and biases\n",
        "np.random.seed(42)  # For reproducibility\n",
        "w1 = np.random.randn(input_layer_size, hidden_layer_size)  # Weights for input to hidden layer\n",
        "b1 = np.zeros((1, hidden_layer_size))  # Bias for hidden layer\n",
        "w2 = np.random.randn(hidden_layer_size, output_layer_size)  # Weights for hidden to output layer\n",
        "b2 = np.zeros((1, output_layer_size))  # Bias for output layer\n",
        "\n",
        "# Training parameters\n",
        "learning_rate = 0.1\n",
        "epochs = 10000\n",
        "\n",
        "# Training the network\n",
        "for epoch in range(epochs):\n",
        "    # Forward Propagation\n",
        "    hidden_layer_input = np.dot(X, w1) + b1  # Input to hidden layer\n",
        "    hidden_layer_output = relu(hidden_layer_input)  # ReLU activation\n",
        "\n",
        "    output_layer_input = np.dot(hidden_layer_output, w2) + b2  # Input to output layer\n",
        "    output_layer_output = sigmoid(output_layer_input)  # Sigmoid activation\n",
        "\n",
        "    # Compute the loss (Mean Squared Error)\n",
        "    loss = np.mean(np.square(y - output_layer_output))\n",
        "\n",
        "    # Backpropagation (Gradient Descent)\n",
        "    # Calculate the error in the output layer\n",
        "    output_layer_error = y - output_layer_output\n",
        "    output_layer_delta = output_layer_error * sigmoid_derivative(output_layer_output)\n",
        "\n",
        "    # Calculate the error in the hidden layer\n",
        "    hidden_layer_error = output_layer_delta.dot(w2.T)\n",
        "    hidden_layer_delta = hidden_layer_error * relu_derivative(hidden_layer_output)\n",
        "\n",
        "    # Update weights and biases\n",
        "    w2 += hidden_layer_output.T.dot(output_layer_delta) * learning_rate\n",
        "    b2 += np.sum(output_layer_delta, axis=0, keepdims=True) * learning_rate\n",
        "    w1 += X.T.dot(hidden_layer_delta) * learning_rate\n",
        "    b1 += np.sum(hidden_layer_delta, axis=0, keepdims=True) * learning_rate\n",
        "\n",
        "    # Print the loss every 1000 epochs\n",
        "    if epoch % 1000 == 0:\n",
        "        print(f\"Epoch {epoch}, Loss: {loss:.5f}\")\n",
        "\n",
        "# After training, let's print the final output\n",
        "print(\"Final output after training:\")\n",
        "print(output_layer_output)\n",
        "\n"
      ]
    }
  ]
}