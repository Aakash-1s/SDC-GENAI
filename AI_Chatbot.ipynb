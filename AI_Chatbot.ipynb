{
  "nbformat": 4,
  "nbformat_minor": 0,
  "metadata": {
    "colab": {
      "provenance": [],
      "authorship_tag": "ABX9TyMy2rrNgsr5vWmmRfhDRsNj",
      "include_colab_link": true
    },
    "kernelspec": {
      "name": "python3",
      "display_name": "Python 3"
    },
    "language_info": {
      "name": "python"
    }
  },
  "cells": [
    {
      "cell_type": "markdown",
      "metadata": {
        "id": "view-in-github",
        "colab_type": "text"
      },
      "source": [
        "<a href=\"https://colab.research.google.com/github/Aakash-1s/SDC-GENAI/blob/main/AI_Chatbot.ipynb\" target=\"_parent\"><img src=\"https://colab.research.google.com/assets/colab-badge.svg\" alt=\"Open In Colab\"/></a>"
      ]
    },
    {
      "cell_type": "code",
      "execution_count": 3,
      "metadata": {
        "colab": {
          "base_uri": "https://localhost:8080/"
        },
        "id": "YlzMN6tB5uxw",
        "outputId": "53e2edd9-d78f-4187-8629-270419242479"
      },
      "outputs": [
        {
          "output_type": "stream",
          "name": "stdout",
          "text": [
            "Hi! I'm a chatbot. Type 'quit' to exit.\n",
            "You: quit\n",
            "Chatbot: Goodbye!\n"
          ]
        }
      ],
      "source": [
        "def chatbot():\n",
        "    print(\"Hi! I'm a chatbot. Type 'quit' to exit.\")\n",
        "    while True:\n",
        "        user_input = input(\"You: \").lower()\n",
        "\n",
        "        if user_input == \"quit\":\n",
        "            print(\"Chatbot: Goodbye!\")\n",
        "            break\n",
        "        elif \"hello\" in user_input or \"hi\" in user_input:\n",
        "            print(\"Chatbot: Hello there!\")\n",
        "        elif \"how are you\" in user_input:\n",
        "            print(\"Chatbot: I'm just a program, but I'm doing great!\")\n",
        "        elif \"your name\" in user_input:\n",
        "            print(\"Chatbot: I'm a simple Python chatbot.\")\n",
        "        else:\n",
        "            print(\"Chatbot: Sorry, I don't understand that.\")\n",
        "\n",
        "chatbot()\n"
      ]
    }
  ]
}